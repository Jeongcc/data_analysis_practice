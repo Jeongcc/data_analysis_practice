{
 "cells": [
  {
   "cell_type": "code",
   "execution_count": 13,
   "metadata": {
    "id": "I5xwEiEAYiV2"
   },
   "outputs": [],
   "source": [
    "#2021-07-10\n",
    "import pandas as pd\n",
    "import numpy as np\n",
    "# AutoML을 이용한 ML 구현\n",
    "from sklearn.pipeline import Pipeline\n",
    "from sklearn.model_selection import train_test_split\n",
    "from sklearn.preprocessing import StandardScaler, MinMaxScaler\n",
    "from sklearn.model_selection import KFold, GridSearchCV\n",
    "import copy\n",
    "# suboptmal problem의 iteration 문제는 무시할 것! (suboptimal의 계산횟수를 한정하여 수렴시키겠다는 얘기)\n",
    "import warnings\n",
    "warnings.filterwarnings('ignore')\n",
    "\n",
    "\n",
    "from sklearn.neural_network import MLPRegressor\n",
    "# hidden_layer_sizes = (100,) , (10, 10, ) 정도만 activation = 'relu', 'logistic'까지만, alpha =0.0001, solver = 'lbfgs', 'adam'까지만\n",
    "\n",
    "# csv에 기록된 feature는 아래와 같음\n",
    "col_name = ['일자', '요일', '본사정원수', '본사휴가자수', '본사출장자수', '본사시간외근무명령서승인건수',\n",
    "       '현본사소속재택근무자수', '조식메뉴', '중식메뉴', '석식메뉴', '중식계', '석식계']\n",
    "\n",
    "# 예측을 위해 사용하는 feature들\n",
    "# 일자: 월만 추출하기로 함\n",
    "# 요일: 요일은 숫자로 변환하여 사용함\n",
    "# 본사정원수, 본사휴가자수, 본사출장자수, 본사시간외근무명령서승인건수, 현본사소속재택근무자수\n",
    "# 전날 휴무면 1로 표시\n",
    "# 뒷날 휴무면 1로 표신\n",
    "# 일찍 마치는 날이면 1로 표시\n",
    "# lunch는 점심메뉴에 맛있다고 판단할 수 있는 반찬들이 몇개 들어갔는가?\n",
    "# dinner는 저녁메뉴에 맛있다고 판단할 수 있는 반찬들이 몇개 들어갔는가?\n",
    "need_col = ['일자', '본사정원수', '본사휴가자수', '본사출장자수', '본사시간외근무명령서승인건수',\n",
    "        '현본사소속재택근무자수', '전날휴무', '뒷날휴무', 'lunch', 'dinner', '중식계', '석식계', '일찍마침']"
   ]
  },
  {
   "cell_type": "code",
   "execution_count": 14,
   "metadata": {
    "colab": {
     "base_uri": "https://localhost:8080/"
    },
    "id": "t3jyUxEWY8N8",
    "outputId": "dc752643-a05c-4cd5-e959-e7a14e5aabb7"
   },
   "outputs": [],
   "source": [
    "# 인코딩 UTF-8이 아니므로 지정하여 불러옴\n",
    "df = pd.read_csv(\"train.csv\", encoding=\"CP949\")\n",
    "dr = copy.deepcopy(df)\n",
    "# 저녁 식사 인원이 거의 없는 날은 석식메뉴에 사유가 적힘\n",
    "no_dinner_menu = set(df.loc[(df[\"석식계\"]==0), \"석식메뉴\"])\n",
    "delicious = []"
   ]
  },
  {
   "cell_type": "code",
   "execution_count": 15,
   "metadata": {
    "id": "JINxiS6eagYR"
   },
   "outputs": [],
   "source": [
    "\"\"\"\n",
    "REQUIREMENTS: \"일자\"(0000-00-00 string)\n",
    "FUNCTION: \"일자\"에서 월 정보와 년 정보를 칼럼으로 추가해 반환\n",
    "\"\"\"\n",
    "def date_to_month(given, one_hot_to_month = False, multi_coll = False):\n",
    "    given['일자'] = pd.to_datetime(given['일자'])\n",
    "    given['년도'] = pd.to_numeric(given['일자'].dt.year)\n",
    "    given['일자'] = pd.to_numeric(given['일자'].dt.month)\n",
    "    if one_hot_to_month == False:\n",
    "        return given\n",
    "    \n",
    "    given['일자_1'] = given.apply(lambda x: 1 if x['일자']==1 else 0, axis=1)\n",
    "    given['일자_2'] = given.apply(lambda x: 1 if x['일자']==2 else 0, axis=1)\n",
    "    given['일자_3'] = given.apply(lambda x: 1 if x['일자']==3 else 0, axis=1)\n",
    "    given['일자_4'] = given.apply(lambda x: 1 if x['일자']==4 else 0, axis=1)\n",
    "    given['일자_5'] = given.apply(lambda x: 1 if x['일자']==5 else 0, axis=1)\n",
    "    given['일자_6'] = given.apply(lambda x: 1 if x['일자']==6 else 0, axis=1)\n",
    "    given['일자_7'] = given.apply(lambda x: 1 if x['일자']==7 else 0, axis=1)\n",
    "    given['일자_8'] = given.apply(lambda x: 1 if x['일자']==8 else 0, axis=1)\n",
    "    given['일자_9'] = given.apply(lambda x: 1 if x['일자']==9 else 0, axis=1)\n",
    "    given['일자_10'] = given.apply(lambda x: 1 if x['일자']==10 else 0, axis=1)\n",
    "    given['일자_11'] = given.apply(lambda x: 1 if x['일자']==11 else 0, axis=1)\n",
    "    given['일자_12'] = given.apply(lambda x: 1 if x['일자']==12 else 0, axis=1)\n",
    "     \n",
    "    if multi_coll == True:\n",
    "        return given[list(set(given.columns)-{\"일자1\"})]\n",
    "    elif multi_coll == False:\n",
    "        return given"
   ]
  },
  {
   "cell_type": "code",
   "execution_count": 16,
   "metadata": {
    "id": "iWMIZLYDbOFw"
   },
   "outputs": [],
   "source": [
    "\"\"\"\n",
    "REQUIREMENTS: \"요일\"(월화수목금으로 표시된)\n",
    "FUNCTION: \"전날휴무\", \"뒷날휴무\" column을 생성하고 휴무면 1로 표시하여 데이터프레임을 반환\n",
    "\"\"\"\n",
    "def prior_posterior(given):\n",
    "    given[\"전날휴무\"] = given[\"요일\"].shift(1).fillna(0)\n",
    "    given[\"뒷날휴무\"] = given[\"요일\"].shift(-1).fillna(0)\n",
    "    \n",
    "    # 전후날 근무날이면 0으로 표시하기\n",
    "    given.loc[(given[\"요일\"]==\"월\") & (given[\"뒷날휴무\"]==\"화\"), \"뒷날휴무\"] = 0\n",
    "    given.loc[(given[\"요일\"]==\"화\") & (given[\"뒷날휴무\"]==\"수\"), \"뒷날휴무\"] = 0\n",
    "    given.loc[(given[\"요일\"]==\"수\") & (given[\"뒷날휴무\"]==\"목\"), \"뒷날휴무\"] = 0\n",
    "    given.loc[(given[\"요일\"]==\"목\") & (given[\"뒷날휴무\"]==\"금\"), \"뒷날휴무\"] = 0\n",
    "    given.loc[(given[\"요일\"]==\"화\") & (given[\"전날휴무\"]==\"월\"), \"전날휴무\"] = 0\n",
    "    given.loc[(given[\"요일\"]==\"수\") & (given[\"전날휴무\"]==\"화\"), \"전날휴무\"] = 0\n",
    "    given.loc[(given[\"요일\"]==\"목\") & (given[\"전날휴무\"]==\"수\"), \"전날휴무\"] = 0\n",
    "    given.loc[(given[\"요일\"]==\"금\") & (given[\"전날휴무\"]==\"목\"), \"전날휴무\"] = 0\n",
    "    given.loc[given[\"전날휴무\"] != 0, \"전날휴무\"] = 1\n",
    "    given.loc[given[\"뒷날휴무\"] != 0, \"뒷날휴무\"] = 1\n",
    "\n",
    "    return given"
   ]
  },
  {
   "cell_type": "code",
   "execution_count": 17,
   "metadata": {
    "id": "B26IXSXAoj5a"
   },
   "outputs": [],
   "source": [
    "\"\"\"\n",
    "REQUIREMENTS: \"석식메뉴\"\n",
    "FUNCTION: 일찍 퇴근하는 날의 \"석식메뉴\"에는 휴무의 원인이 적혀 있음\n",
    "\"\"\"\n",
    "def no_work(given):\n",
    "    given[\"일찍마침\"] = given[\"석식메뉴\"].map(lambda x: 1 if x in no_dinner_menu else 0)\n",
    "    return given"
   ]
  },
  {
   "cell_type": "code",
   "execution_count": 18,
   "metadata": {
    "colab": {
     "base_uri": "https://localhost:8080/",
     "height": 440
    },
    "id": "IIY_C6Fhw33P",
    "outputId": "307bbdb0-72fc-4f1f-c908-a429aae94457"
   },
   "outputs": [],
   "source": [
    "\"\"\"\n",
    "REQUIREMENTS: \"중식계\"와 \"석식계\" feature\n",
    "FUNCTION: 한 주내 석식계와 중식계의 식사인원은 월요일에서 금요일로 갈 수록 감소하는데\n",
    "            증가하는 날이 있다. 아마도 이런 날은 식단이 맛있을 것이므로\n",
    "            그 식단의 반찬을 추출하면 맛있는 메뉴의 list를 찾을 수 있을 것이다.\n",
    "\"\"\"\n",
    "def find_delicious_menu(given):\n",
    "    temp = []\n",
    "    current_lunch = []\n",
    "    current_dinner = []\n",
    "    given_lid= list(given.columns).index(\"중식메뉴\")\n",
    "    given_did= list(given.columns).index(\"석식메뉴\")\n",
    "    prior_id = list(given.columns).index(\"전날휴무\")\n",
    "    posterior_id = list(given.columns).index(\"뒷날휴무\")\n",
    "    l_numid = list(given.columns).index(\"중식계\")\n",
    "    d_numid = list(given.columns).index(\"석식계\")\n",
    "    t = list(given.columns).index('본사정원수')\n",
    "    f1 = list(given.columns).index('본사휴가자수')\n",
    "    f2 = list(given.columns).index('본사출장자수')\n",
    "    f3 = list(given.columns).index('현본사소속재택근무자수')\n",
    "    early = list(given.columns).index(\"일찍마침\")\n",
    "    for i in range(1, len(given['요일'])):\n",
    "        current_lunch = given.iloc[i, given_lid].split()\n",
    "        current_dinner = given.iloc[i, given_did].split()\n",
    "        if ((given.iloc[i, prior_id] == 0) & (given.iloc[i, posterior_id] == 0) &\n",
    "            ((given.iloc[i, l_numid]/(given.iloc[i, t]-given.iloc[i,f1]-given.iloc[i,f2]-\n",
    "                                     given.iloc[i,f3])) > 1.25*given.iloc[i-1, l_numid]/\n",
    "             (given.iloc[i-1, t]-given.iloc[i-1,f1]-given.iloc[i-1,f2]-\n",
    "                                     given.iloc[i-1,f3]) )):\n",
    "            temp += current_lunch\n",
    "        if ((given.iloc[i, prior_id] == 0) & (given.iloc[i, posterior_id] == 0) &\n",
    "            ((given.iloc[i, d_numid]/(given.iloc[i, t]-given.iloc[i,f1]-given.iloc[i,f2]-\n",
    "                                     given.iloc[i,f3])) > 1.25*given.iloc[i-1, d_numid]/\n",
    "             (given.iloc[i-1, t]-given.iloc[i-1,f1]-given.iloc[i-1,f2]-\n",
    "                                     given.iloc[i-1,f3]) ) &\n",
    "           (given.iloc[i-1, early] != 1)):\n",
    "            temp += current_dinner\n",
    "            \n",
    "        temp = list(set(temp))\n",
    "        temp = [ x for x in temp if \":\" not in x]\n",
    "        temp = [ x for x in temp if \"쌀밥\" not in x]\n",
    "        temp = [ x for x in temp if \"김치\" not in x]\n",
    "    \n",
    "    return temp\n",
    "# 이제 delicious에서는 맛있었던 메뉴들로 추정되는 것들이 담김"
   ]
  },
  {
   "cell_type": "code",
   "execution_count": 19,
   "metadata": {},
   "outputs": [],
   "source": [
    "\"\"\"\n",
    "REQUIREMENTS: delicious(맛있는 메뉴가 들어있는 list), \"요일\", \"중식메뉴\", \"석식메뉴\"\n",
    "FUNCTION: 중식메뉴와 석식메뉴에 delicious와 겹치는 element의 수를 \"lunch\"와 \"dinner\" column에 저장하여\n",
    "            새로운 데이터프레임을 반환\n",
    "\"\"\"\n",
    "def is_delicious(given):\n",
    "    global delicious\n",
    "    now = given\n",
    "    now['lunch'] = [0 for i in range(len(given[\"요일\"]))]\n",
    "    now['dinner'] = [0 for i in range(len(given[\"요일\"]))]\n",
    "    lunch_id = list(given.columns).index(\"중식메뉴\")\n",
    "    dinner_id = list(given.columns).index(\"석식메뉴\")\n",
    "    ldelicious_id = list(now.columns).index(\"lunch\")\n",
    "    ddelicious_id = list(now.columns).index(\"dinner\")\n",
    "    \n",
    "    for i in range(0, len(given['요일'])):\n",
    "        now.iloc[i, ldelicious_id] = len(set(given.iloc[i, lunch_id].split()) & set(delicious))\n",
    "        now.iloc[i, ddelicious_id] = len(set(given.iloc[i, dinner_id].split()) & set(delicious))\n",
    "    \n",
    "    return now"
   ]
  },
  {
   "cell_type": "code",
   "execution_count": 20,
   "metadata": {
    "id": "tkMSN6E3vgYY"
   },
   "outputs": [],
   "source": [
    "# 요일을 coded variable로 나타내는 함수\n",
    "def day_process(given, one_hot_to_day = False, multi_coll = False):\n",
    "    if one_hot_to_day == False:\n",
    "        given.loc[given[\"요일\"]==\"월\", \"요일\"] = 0\n",
    "        given.loc[given[\"요일\"]==\"화\", \"요일\"] = 1\n",
    "        given.loc[given[\"요일\"]==\"수\", \"요일\"] = 2\n",
    "        given.loc[given[\"요일\"]==\"목\", \"요일\"] = 3\n",
    "        given.loc[given[\"요일\"]==\"금\", \"요일\"] = 4\n",
    "        return given\n",
    "    elif multi_coll == True:\n",
    "        given = pd.get_dummies(given, columns=['요일'], drop_first=True)\n",
    "        return given\n",
    "    else:\n",
    "        given = pd.get_dummies(given, columns=['요일'], drop_first=False)\n",
    "        return given"
   ]
  },
  {
   "cell_type": "code",
   "execution_count": 21,
   "metadata": {
    "id": "2AMNT88aaUWF"
   },
   "outputs": [],
   "source": [
    "\"\"\"\n",
    "REQUIREMENTS: -\n",
    "FUNCTION: need_col에 저장된 column만 추출함. test=True이면 \"중식계\"와 \"석식계\"를 제외하여 반환\n",
    "\"\"\"\n",
    "def col_selection(given, test=False):\n",
    "    if test == False:\n",
    "        return given[need_col]\n",
    "    if test == True:\n",
    "        return given[list(set(need_col)-{\"중식계\", \"석식계\"})]"
   ]
  },
  {
   "cell_type": "code",
   "execution_count": 22,
   "metadata": {},
   "outputs": [],
   "source": [
    "def pre_total_preprocess(given, test = False, one_hot_to_month = False, one_hot_to_day = False,\n",
    "                     multi_coll = False):\n",
    "    # delicious는 함수 외부에 존재하는 빈 list임\n",
    "    global delicious\n",
    "    given = prior_posterior(given)\n",
    "    given = no_work(given)\n",
    "    if test ==  False:\n",
    "        delicious = find_delicious_menu(given)\n",
    "    given = is_delicious(given)\n",
    "    given = day_process(given, one_hot_to_day = one_hot_to_day, multi_coll = multi_coll)\n",
    "    given = col_selection(given, test=test)\n",
    "    given = date_to_month(given, one_hot_to_month = one_hot_to_month, multi_coll = multi_coll)  \n",
    "    return given"
   ]
  },
  {
   "cell_type": "code",
   "execution_count": 85,
   "metadata": {},
   "outputs": [],
   "source": [
    "\n",
    "train = copy.deepcopy(df)\n",
    "train = pre_total_preprocess(train, one_hot_to_month = False)\n",
    "\n",
    "test_data = pd.read_csv(\"test.csv\")\n",
    "test_data = pre_total_preprocess(test_data, test=True, one_hot_to_month = False)\n",
    "\n",
    "one_hot_to_month = False\n",
    "if one_hot_to_month == False:\n",
    "    total_column = ['년도', \"일자\", \"전날휴무\", \"뒷날휴무\", \"일찍마침\", \"lunch\", \"dinner\", \"본사정원수\",\n",
    "      \"본사휴가자수\", \"본사출장자수\", \"본사시간외근무명령서승인건수\",\n",
    "      \"현본사소속재택근무자수\", \"중식계\", \"석식계\"]\n",
    "    lfeature_column = ['년도', \"일자\", \"전날휴무\",\"뒷날휴무\", \"일찍마침\", \"lunch\", \"본사정원수\",\n",
    "      \"본사휴가자수\", \"본사출장자수\", \"본사시간외근무명령서승인건수\",\n",
    "      \"현본사소속재택근무자수\"]\n",
    "    dfeature_column = ['년도', \"일자\", \"전날휴무\", \"뒷날휴무\", \"일찍마침\", \"dinner\", \"본사정원수\",\n",
    "      \"본사휴가자수\", \"본사출장자수\", \"본사시간외근무명령서승인건수\",\n",
    "      \"현본사소속재택근무자수\"]\n",
    "else:\n",
    "    total_column = ['년도', '일자_1', '일자_2', '일자_3',\n",
    "       '일자_4', '일자_5', '일자_6', '일자_7', '일자_8', '일자_9', '일자_10', '일자_11',\n",
    "       '일자_12', \"전날휴무\", \"뒷날휴무\", \"일찍마침\", \"lunch\", \"dinner\", \"본사정원수\",\n",
    "      \"본사휴가자수\", \"본사출장자수\", \"본사시간외근무명령서승인건수\",\n",
    "      \"현본사소속재택근무자수\", \"중식계\", \"석식계\"]\n",
    "    lfeature_column = ['년도', '일자_1', '일자_2', '일자_3',\n",
    "       '일자_4', '일자_5', '일자_6', '일자_7', '일자_8', '일자_9', '일자_10', '일자_11',\n",
    "       '일자_12', \"전날휴무\",\"뒷날휴무\", \"일찍마침\", \"lunch\", \"본사정원수\",\n",
    "      \"본사휴가자수\", \"본사출장자수\", \"본사시간외근무명령서승인건수\",\n",
    "      \"현본사소속재택근무자수\"]\n",
    "    dfeature_column = ['년도', '일자_1', '일자_2', '일자_3',\n",
    "       '일자_4', '일자_5', '일자_6', '일자_7', '일자_8', '일자_9', '일자_10', '일자_11',\n",
    "       '일자_12', \"전날휴무\", \"뒷날휴무\", \"일찍마침\", \"dinner\", \"본사정원수\",\n",
    "      \"본사휴가자수\", \"본사출장자수\", \"본사시간외근무명령서승인건수\",\n",
    "      \"현본사소속재택근무자수\"]"
   ]
  },
  {
   "cell_type": "code",
   "execution_count": 92,
   "metadata": {},
   "outputs": [
    {
     "data": {
      "text/plain": [
       "Index(['일자', '본사정원수', '본사휴가자수', '본사출장자수', '본사시간외근무명령서승인건수', '현본사소속재택근무자수',\n",
       "       '전날휴무', '뒷날휴무', 'lunch', 'dinner', '중식계', '석식계', '일찍마침', '년도'],\n",
       "      dtype='object')"
      ]
     },
     "execution_count": 92,
     "metadata": {},
     "output_type": "execute_result"
    }
   ],
   "source": [
    "train.columns"
   ]
  },
  {
   "cell_type": "code",
   "execution_count": 99,
   "metadata": {},
   "outputs": [
    {
     "name": "stdout",
     "output_type": "stream",
     "text": [
      "Index(['년도', '일자', '본사정원수', '본사휴가자수', '본사출장자수', '본사시간외근무명령서승인건수',\n",
      "       '현본사소속재택근무자수', '전날휴무', '뒷날휴무'],\n",
      "      dtype='object')\n",
      "[0.33592959 0.20301034 0.19682177 0.142551   0.04313835 0.03968375\n",
      " 0.01997152 0.01357699 0.00531669]\n",
      "[17.15029325 13.3323436  13.12755912 11.17204196  6.145811    5.89459215\n",
      "  4.18170056  3.44785626  2.15758622]\n"
     ]
    }
   ],
   "source": [
    "from sklearn.decomposition import PCA\n",
    "print(train[['년도', '일자', '본사정원수', '본사휴가자수', '본사출장자수', '본사시간외근무명령서승인건수', '현본사소속재택근무자수',\n",
    "       '전날휴무', '뒷날휴무']].columns)\n",
    "to_conversion = train[['년도', '일자', '본사정원수', '본사휴가자수', '본사출장자수', '본사시간외근무명령서승인건수', '현본사소속재택근무자수',\n",
    "       '전날휴무', '뒷날휴무']]\n",
    "pca_scaler = MinMaxScaler()\n",
    "pca_scaler.fit(to_conversion)\n",
    "pca_train = pca_scaler.transform(to_conversion)\n",
    "\n",
    "pca = PCA()\n",
    "pca.fit(pca_train)\n",
    "print(pca.explained_variance_ratio_)\n",
    "print(pca.singular_values_)"
   ]
  },
  {
   "cell_type": "code",
   "execution_count": 88,
   "metadata": {},
   "outputs": [],
   "source": [
    "X1_train, X1_test, y1_train, y1_test = train_test_split(train[lfeature_column], train[\"중식계\"], shuffle=True)\n",
    "X2_train, X2_test, y2_train, y2_test = train_test_split(train[dfeature_column], train[\"석식계\"], shuffle=True)"
   ]
  },
  {
   "cell_type": "code",
   "execution_count": 89,
   "metadata": {},
   "outputs": [],
   "source": [
    "hands_on_ml1 = MLPRegressor(hidden_layer_sizes = (100, ),\n",
    "                            activation = 'relu', solver = 'lbfgs', alpha = 0.0001)\n",
    "hands_on_ml2 = MLPRegressor(hidden_layer_sizes = (100, ),\n",
    "                            activation = 'relu', solver = 'lbfgs', alpha = 0.0001)\n",
    "scaler_X1 = MinMaxScaler()\n",
    "scaler_X2 = MinMaxScaler()\n",
    "scaler_y1 = MinMaxScaler()\n",
    "scaler_y2 = MinMaxScaler()\n",
    "\n",
    "scaler_X1.fit(X1_train)\n",
    "scaler_X2.fit(X2_train)\n",
    "scaler_y1.fit(np.array(y1_train).reshape(-1,1))\n",
    "scaler_y2.fit(np.array(y2_train).reshape(-1,1))\n",
    "\n",
    "sX1tr = scaler_X1.transform(X1_train)\n",
    "sX1tt = scaler_X1.transform(X1_test)\n",
    "sy1tr = scaler_y1.transform(np.array(y1_train).reshape(1,-1)).reshape(-1,1)\n",
    "sy1tt = scaler_y1.transform(np.array(y1_test).reshape(-1,1)).reshape(-1,1)\n",
    "sX2tr = scaler_X2.transform(X2_train)\n",
    "sX2tt = scaler_X2.transform(X2_test)\n",
    "sy2tr = scaler_y2.transform(np.array(y2_train).reshape(-1,1)).reshape(-1,1)\n",
    "sy2tt = scaler_y2.transform(np.array(y2_test).reshape(-1,1)).reshape(-1,1)"
   ]
  },
  {
   "cell_type": "code",
   "execution_count": 90,
   "metadata": {},
   "outputs": [
    {
     "data": {
      "text/plain": [
       "MLPRegressor(solver='lbfgs')"
      ]
     },
     "execution_count": 90,
     "metadata": {},
     "output_type": "execute_result"
    }
   ],
   "source": [
    "hands_on_ml1.fit(sX1tr, sy1tr)\n",
    "hands_on_ml2.fit(sX2tr, sy2tr)"
   ]
  },
  {
   "cell_type": "code",
   "execution_count": 91,
   "metadata": {},
   "outputs": [
    {
     "name": "stdout",
     "output_type": "stream",
     "text": [
      "중식계 training:  51.31784863489709\n",
      "중식계 test:  67.4901543574564\n",
      "석식계 training:  33.43284047640583\n",
      "석식계 test:  45.105337878951914\n"
     ]
    }
   ],
   "source": [
    "from sklearn.metrics import mean_absolute_error\n",
    "\n",
    "pr_y1tr = scaler_y1.inverse_transform(hands_on_ml1.predict(sX1tr).reshape(-1,1)) \n",
    "pr_y1tt = scaler_y1.inverse_transform(hands_on_ml1.predict(sX1tt).reshape(-1,1))\n",
    "pr_y2tr = scaler_y2.inverse_transform(hands_on_ml2.predict(sX2tr).reshape(-1,1))\n",
    "pr_y2tt = scaler_y2.inverse_transform(hands_on_ml2.predict(sX2tt).reshape(-1,1))\n",
    "\n",
    "print(\"중식계 training: \", mean_absolute_error(y1_train, pr_y1tr))\n",
    "print(\"중식계 test: \", mean_absolute_error(y1_test, pr_y1tt))\n",
    "print(\"석식계 training: \", mean_absolute_error(y2_train, pr_y2tr))\n",
    "print(\"석식계 test: \", mean_absolute_error(y2_test, pr_y2tt))"
   ]
  },
  {
   "cell_type": "code",
   "execution_count": 28,
   "metadata": {},
   "outputs": [],
   "source": [
    "pipe = Pipeline([('preprocessing', None), ('regressor', MLPRegressor())])\n",
    "pre_list = [MinMaxScaler()]\n",
    "hyperparam_grid = [\n",
    "    {\"regressor\": [MLPRegressor()], 'preprocessing': pre_list,\n",
    "    \"regressor__hidden_layer_sizes\": [(100,)],\n",
    "    \"regressor__activation\": [\"relu\"],\n",
    "    \"regressor__solver\": [\"lbfgs\"],\n",
    "    \"regressor__alpha\": [0.0001, 0.001, 0.01, 0.1, 1]}\n",
    "\n",
    "]\n",
    "kfold = KFold(n_splits=5, shuffle=True, random_state=1)\n",
    "\n",
    "grid1 = GridSearchCV(pipe, hyperparam_grid, scoring=\"neg_mean_absolute_error\",\n",
    "                   refit=True, cv=kfold)\n",
    "grid2 = GridSearchCV(pipe, hyperparam_grid, scoring=\"neg_mean_absolute_error\",\n",
    "                   refit=True, cv=kfold)"
   ]
  },
  {
   "cell_type": "code",
   "execution_count": 29,
   "metadata": {},
   "outputs": [
    {
     "name": "stdout",
     "output_type": "stream",
     "text": [
      "Pipeline(steps=[('preprocessing', MinMaxScaler()),\n",
      "                ('regressor', MLPRegressor(alpha=0.1, solver='lbfgs'))])\n",
      "{'preprocessing': MinMaxScaler(), 'regressor': MLPRegressor(alpha=0.1, solver='lbfgs'), 'regressor__activation': 'relu', 'regressor__alpha': 0.1, 'regressor__hidden_layer_sizes': (100,), 'regressor__solver': 'lbfgs'}\n",
      "-70.65777706384944\n",
      "-67.45982445701011\n"
     ]
    }
   ],
   "source": [
    "grid1.fit(X1_train, y1_train)\n",
    "print(grid1.best_estimator_)\n",
    "print(grid1.best_params_)\n",
    "print(grid1.best_score_)\n",
    "print(grid1.score(X1_test, y1_test))"
   ]
  },
  {
   "cell_type": "code",
   "execution_count": 30,
   "metadata": {},
   "outputs": [
    {
     "name": "stdout",
     "output_type": "stream",
     "text": [
      "Pipeline(steps=[('preprocessing', MinMaxScaler()),\n",
      "                ('regressor', MLPRegressor(alpha=0.001, solver='lbfgs'))])\n",
      "{'preprocessing': MinMaxScaler(), 'regressor': MLPRegressor(alpha=0.001, solver='lbfgs'), 'regressor__activation': 'relu', 'regressor__alpha': 0.001, 'regressor__hidden_layer_sizes': (100,), 'regressor__solver': 'lbfgs'}\n",
      "-47.19837081827621\n",
      "-49.56533612649797\n"
     ]
    }
   ],
   "source": [
    "grid2.fit(X2_train, y2_train)\n",
    "print(grid2.best_estimator_)\n",
    "print(grid2.best_params_)\n",
    "print(grid2.best_score_)\n",
    "print(grid2.score(X2_test, y2_test))"
   ]
  },
  {
   "cell_type": "code",
   "execution_count": null,
   "metadata": {},
   "outputs": [],
   "source": [
    "# 지금까지 알아낸 사실 각 요일별 식사 인원은 회사에 잔존하는 인원 수보다 많을 수 없다.\n",
    "# 또한, 음수도 될 수 없다.\n",
    "# 그러면 엄청 큰 값은 최대치(혹은 75% qunatile)로, 엄청 작은 값은 최소치(25% quantile)로 대응시키는 게 좋을까?\n",
    "# 또한 각 요일별 식사 인원의 += 3 sigma보다 많이 벗어나는 일도 기적 같은 일이다.\n",
    "# 차라리 각 분류별 median 모형을 사용하는 것이 더 적합할까?\n",
    "# 전날 휴일인 게 필요할까?\n",
    "# 각 요일별 평균치를 대입할까?\n",
    "# 각 "
   ]
  },
  {
   "cell_type": "code",
   "execution_count": null,
   "metadata": {},
   "outputs": [],
   "source": [
    "a = pd.DataFrame(reg3.predict(test_data[lfeature_column]))"
   ]
  },
  {
   "cell_type": "code",
   "execution_count": null,
   "metadata": {},
   "outputs": [],
   "source": [
    "b = pd.DataFrame(reg4.predict(test_data[dfeature_column]))"
   ]
  },
  {
   "cell_type": "code",
   "execution_count": null,
   "metadata": {},
   "outputs": [],
   "source": [
    "save = pd.read_csv(\"sample_submission.csv\")\n",
    "save[\"중식계\"] = a\n",
    "save[\"석식계\"] = b\n",
    "save.columns = [\"일자\", \"중식계\", \"석식계\"]\n",
    "save.to_csv(\"submit.csv\", encoding=\"CP949\", index=False)"
   ]
  },
  {
   "cell_type": "code",
   "execution_count": null,
   "metadata": {},
   "outputs": [],
   "source": []
  }
 ],
 "metadata": {
  "colab": {
   "name": "Untitled2.ipynb",
   "provenance": []
  },
  "kernelspec": {
   "display_name": "Python 3",
   "language": "python",
   "name": "python3"
  },
  "language_info": {
   "codemirror_mode": {
    "name": "ipython",
    "version": 3
   },
   "file_extension": ".py",
   "mimetype": "text/x-python",
   "name": "python",
   "nbconvert_exporter": "python",
   "pygments_lexer": "ipython3",
   "version": "3.8.5"
  }
 },
 "nbformat": 4,
 "nbformat_minor": 1
}
