{
  "nbformat": 4,
  "nbformat_minor": 0,
  "metadata": {
    "colab": {
      "name": "lh.ipynb",
      "provenance": [],
      "authorship_tag": "ABX9TyPjwGzoYhPwp4PdN7XH4u/s",
      "include_colab_link": true
    },
    "kernelspec": {
      "name": "python3",
      "display_name": "Python 3"
    },
    "language_info": {
      "name": "python"
    }
  },
  "cells": [
    {
      "cell_type": "markdown",
      "metadata": {
        "id": "view-in-github",
        "colab_type": "text"
      },
      "source": [
        "<a href=\"https://colab.research.google.com/github/Jeongcc/data_analysis_practice/blob/main/lh.ipynb\" target=\"_parent\"><img src=\"https://colab.research.google.com/assets/colab-badge.svg\" alt=\"Open In Colab\"/></a>"
      ]
    },
    {
      "cell_type": "code",
      "metadata": {
        "id": "wNHd5fDFEw-O"
      },
      "source": [
        "import pandas as pd\n",
        "import numpy as np\n",
        "from sklearn.pipeline import Pipeline\n",
        "from sklearn.model_selection import train_test_split\n",
        "from sklearn.preprocessing import StandardScaler, MinMaxScaler\n",
        "from sklearn.model_selection import KFold, GridSearchCV\n",
        "import warnings\n",
        "warnings.filterwarnings('ignore')"
      ],
      "execution_count": 1,
      "outputs": []
    },
    {
      "cell_type": "code",
      "metadata": {
        "id": "OgHF6-dIEzO8"
      },
      "source": [
        "from sklearn.linear_model import LinearRegression, Ridge, Lasso, LogisticRegression\n",
        "# Ridge는 alpha Lasso도 alpha\n",
        "# Logistic Regressio은 penalty와 regularization strength인 C값\n",
        "from sklearn.svm import SVR\n",
        "# epsilon 디폴트 0.1,  regularization C 1.0, gamma=auto 또는 'scale' , kernel = 'rbf', 'poly', 'sigmoid' 만 사용\n",
        "from sklearn.neural_network import MLPRegressor\n",
        "# hidden_layer_sizes = (100,) , (10, 10, ) 정도만 activation = 'relu', 'logistic'까지만, alpha =0.0001, solver = 'lbfgs', 'adam'까지만"
      ],
      "execution_count": 2,
      "outputs": []
    },
    {
      "cell_type": "code",
      "metadata": {
        "colab": {
          "resources": {
            "http://localhost:8080/nbextensions/google.colab/files.js": {
              "data": "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",
              "ok": true,
              "headers": [
                [
                  "content-type",
                  "application/javascript"
                ]
              ],
              "status": 200,
              "status_text": ""
            }
          },
          "base_uri": "https://localhost:8080/",
          "height": 76
        },
        "id": "6VtlifP1E3Js",
        "outputId": "65496dc8-534e-482c-9003-3f33a85ef015"
      },
      "source": [
        "from google.colab import files\n",
        "myfile = files.upload()"
      ],
      "execution_count": 6,
      "outputs": [
        {
          "output_type": "display_data",
          "data": {
            "text/html": [
              "\n",
              "     <input type=\"file\" id=\"files-b9937968-bd6a-41b7-a32b-191386250ed2\" name=\"files[]\" multiple disabled\n",
              "        style=\"border:none\" />\n",
              "     <output id=\"result-b9937968-bd6a-41b7-a32b-191386250ed2\">\n",
              "      Upload widget is only available when the cell has been executed in the\n",
              "      current browser session. Please rerun this cell to enable.\n",
              "      </output>\n",
              "      <script src=\"/nbextensions/google.colab/files.js\"></script> "
            ],
            "text/plain": [
              "<IPython.core.display.HTML object>"
            ]
          },
          "metadata": {
            "tags": []
          }
        },
        {
          "output_type": "stream",
          "text": [
            "Saving train.csv to train.csv\n"
          ],
          "name": "stdout"
        }
      ]
    },
    {
      "cell_type": "code",
      "metadata": {
        "id": "ZfeO4hD4GoFV"
      },
      "source": [
        "dt = pd.read_csv(\"train.csv\")[[\"일자\", \"요일\", \"본사정원수\", \"본사휴가자수\", \"본사출장자수\", \"본사시간외근무명령서승인건수\", \"현본사소속재택근무자수\", \"중식계\", \"석식계\"]]\n",
        "\n",
        "prior = pd.DataFrame({\"prior\": [None]})\n",
        "posterior = pd.DataFrame({\"posterior\": []})\n",
        "prior = prior.append(pd.DataFrame({\"prior\": list(dt[\"요일\"][0:len(dt[\"요일\"])-1])}), ignore_index=True)\n",
        "posterior = posterior.append(pd.DataFrame({\"posterior\": list(dt[\"요일\"][1:len(dt[\"요일\"])])}), ignore_index=True)\n",
        "posterior = posterior.append(pd.DataFrame({\"posterior\": [None]}), ignore_index=True)\n",
        "\n",
        "dt = dt.join(prior)\n",
        "dt = dt.join(posterior)\n",
        "# prior의 0행과 posterior의 끝 행에 null 값을 추가하기"
      ],
      "execution_count": 7,
      "outputs": []
    },
    {
      "cell_type": "code",
      "metadata": {
        "colab": {
          "base_uri": "https://localhost:8080/",
          "height": 419
        },
        "id": "my3ZIS9j6Cnd",
        "outputId": "5c88b3cd-328e-4d5f-b5d9-e2600aebfc34"
      },
      "source": [
        "dt.loc[(dt[\"요일\"]==\"월\") & (dt[\"posterior\"]==\"화\"), \"posterior\"] = 1\n",
        "dt.loc[(dt[\"요일\"]==\"화\") & (dt[\"posterior\"]==\"수\"), \"posterior\"] = 1\n",
        "dt.loc[(dt[\"요일\"]==\"수\") & (dt[\"posterior\"]==\"목\"), \"posterior\"] = 1\n",
        "dt.loc[(dt[\"요일\"]==\"목\") & (dt[\"posterior\"]==\"금\"), \"posterior\"] = 1\n",
        "dt.loc[(dt[\"요일\"]==\"금\") & (dt[\"posterior\"]==\"월\"), \"posterior\"] = 1\n",
        "\n",
        "dt.loc[(dt[\"요일\"]==\"월\") & (dt[\"prior\"]==\"금\"), \"prior\"] = 1\n",
        "dt.loc[(dt[\"요일\"]==\"화\") & (dt[\"prior\"]==\"월\"), \"prior\"] = 1\n",
        "dt.loc[(dt[\"요일\"]==\"수\") & (dt[\"prior\"]==\"화\"), \"prior\"] = 1\n",
        "dt.loc[(dt[\"요일\"]==\"목\") & (dt[\"prior\"]==\"수\"), \"prior\"] = 1\n",
        "dt.loc[(dt[\"요일\"]==\"금\") & (dt[\"prior\"]==\"목\"), \"prior\"] = 1\n",
        "\n",
        "# 0으로 표현된 데이터는 그 다음 요일이나 그전 요일을 모르거나 휴일이 껴있을 때\n",
        "dt.loc[dt[\"posterior\"]!=1, \"posterior\"] = 0\n",
        "dt.loc[dt[\"prior\"]!=1, \"prior\"] = 0\n",
        "\n",
        "dt"
      ],
      "execution_count": 8,
      "outputs": [
        {
          "output_type": "execute_result",
          "data": {
            "text/html": [
              "<div>\n",
              "<style scoped>\n",
              "    .dataframe tbody tr th:only-of-type {\n",
              "        vertical-align: middle;\n",
              "    }\n",
              "\n",
              "    .dataframe tbody tr th {\n",
              "        vertical-align: top;\n",
              "    }\n",
              "\n",
              "    .dataframe thead th {\n",
              "        text-align: right;\n",
              "    }\n",
              "</style>\n",
              "<table border=\"1\" class=\"dataframe\">\n",
              "  <thead>\n",
              "    <tr style=\"text-align: right;\">\n",
              "      <th></th>\n",
              "      <th>일자</th>\n",
              "      <th>요일</th>\n",
              "      <th>본사정원수</th>\n",
              "      <th>본사휴가자수</th>\n",
              "      <th>본사출장자수</th>\n",
              "      <th>본사시간외근무명령서승인건수</th>\n",
              "      <th>현본사소속재택근무자수</th>\n",
              "      <th>중식계</th>\n",
              "      <th>석식계</th>\n",
              "      <th>prior</th>\n",
              "      <th>posterior</th>\n",
              "    </tr>\n",
              "  </thead>\n",
              "  <tbody>\n",
              "    <tr>\n",
              "      <th>0</th>\n",
              "      <td>2016-02-01</td>\n",
              "      <td>월</td>\n",
              "      <td>2601</td>\n",
              "      <td>50</td>\n",
              "      <td>150</td>\n",
              "      <td>238</td>\n",
              "      <td>0.0</td>\n",
              "      <td>1039.0</td>\n",
              "      <td>331.0</td>\n",
              "      <td>0</td>\n",
              "      <td>1</td>\n",
              "    </tr>\n",
              "    <tr>\n",
              "      <th>1</th>\n",
              "      <td>2016-02-02</td>\n",
              "      <td>화</td>\n",
              "      <td>2601</td>\n",
              "      <td>50</td>\n",
              "      <td>173</td>\n",
              "      <td>319</td>\n",
              "      <td>0.0</td>\n",
              "      <td>867.0</td>\n",
              "      <td>560.0</td>\n",
              "      <td>1</td>\n",
              "      <td>1</td>\n",
              "    </tr>\n",
              "    <tr>\n",
              "      <th>2</th>\n",
              "      <td>2016-02-03</td>\n",
              "      <td>수</td>\n",
              "      <td>2601</td>\n",
              "      <td>56</td>\n",
              "      <td>180</td>\n",
              "      <td>111</td>\n",
              "      <td>0.0</td>\n",
              "      <td>1017.0</td>\n",
              "      <td>573.0</td>\n",
              "      <td>1</td>\n",
              "      <td>1</td>\n",
              "    </tr>\n",
              "    <tr>\n",
              "      <th>3</th>\n",
              "      <td>2016-02-04</td>\n",
              "      <td>목</td>\n",
              "      <td>2601</td>\n",
              "      <td>104</td>\n",
              "      <td>220</td>\n",
              "      <td>355</td>\n",
              "      <td>0.0</td>\n",
              "      <td>978.0</td>\n",
              "      <td>525.0</td>\n",
              "      <td>1</td>\n",
              "      <td>1</td>\n",
              "    </tr>\n",
              "    <tr>\n",
              "      <th>4</th>\n",
              "      <td>2016-02-05</td>\n",
              "      <td>금</td>\n",
              "      <td>2601</td>\n",
              "      <td>278</td>\n",
              "      <td>181</td>\n",
              "      <td>34</td>\n",
              "      <td>0.0</td>\n",
              "      <td>925.0</td>\n",
              "      <td>330.0</td>\n",
              "      <td>1</td>\n",
              "      <td>0</td>\n",
              "    </tr>\n",
              "    <tr>\n",
              "      <th>...</th>\n",
              "      <td>...</td>\n",
              "      <td>...</td>\n",
              "      <td>...</td>\n",
              "      <td>...</td>\n",
              "      <td>...</td>\n",
              "      <td>...</td>\n",
              "      <td>...</td>\n",
              "      <td>...</td>\n",
              "      <td>...</td>\n",
              "      <td>...</td>\n",
              "      <td>...</td>\n",
              "    </tr>\n",
              "    <tr>\n",
              "      <th>1200</th>\n",
              "      <td>2021-01-20</td>\n",
              "      <td>수</td>\n",
              "      <td>2983</td>\n",
              "      <td>75</td>\n",
              "      <td>198</td>\n",
              "      <td>4</td>\n",
              "      <td>391.0</td>\n",
              "      <td>1093.0</td>\n",
              "      <td>421.0</td>\n",
              "      <td>1</td>\n",
              "      <td>1</td>\n",
              "    </tr>\n",
              "    <tr>\n",
              "      <th>1201</th>\n",
              "      <td>2021-01-21</td>\n",
              "      <td>목</td>\n",
              "      <td>2983</td>\n",
              "      <td>92</td>\n",
              "      <td>231</td>\n",
              "      <td>462</td>\n",
              "      <td>351.0</td>\n",
              "      <td>832.0</td>\n",
              "      <td>353.0</td>\n",
              "      <td>1</td>\n",
              "      <td>1</td>\n",
              "    </tr>\n",
              "    <tr>\n",
              "      <th>1202</th>\n",
              "      <td>2021-01-22</td>\n",
              "      <td>금</td>\n",
              "      <td>2983</td>\n",
              "      <td>255</td>\n",
              "      <td>248</td>\n",
              "      <td>1</td>\n",
              "      <td>303.0</td>\n",
              "      <td>579.0</td>\n",
              "      <td>217.0</td>\n",
              "      <td>1</td>\n",
              "      <td>1</td>\n",
              "    </tr>\n",
              "    <tr>\n",
              "      <th>1203</th>\n",
              "      <td>2021-01-25</td>\n",
              "      <td>월</td>\n",
              "      <td>2983</td>\n",
              "      <td>107</td>\n",
              "      <td>153</td>\n",
              "      <td>616</td>\n",
              "      <td>327.0</td>\n",
              "      <td>1145.0</td>\n",
              "      <td>502.0</td>\n",
              "      <td>1</td>\n",
              "      <td>1</td>\n",
              "    </tr>\n",
              "    <tr>\n",
              "      <th>1204</th>\n",
              "      <td>2021-01-26</td>\n",
              "      <td>화</td>\n",
              "      <td>2983</td>\n",
              "      <td>69</td>\n",
              "      <td>183</td>\n",
              "      <td>551</td>\n",
              "      <td>362.0</td>\n",
              "      <td>1015.0</td>\n",
              "      <td>480.0</td>\n",
              "      <td>1</td>\n",
              "      <td>0</td>\n",
              "    </tr>\n",
              "  </tbody>\n",
              "</table>\n",
              "<p>1205 rows × 11 columns</p>\n",
              "</div>"
            ],
            "text/plain": [
              "              일자 요일  본사정원수  본사휴가자수  ...     중식계    석식계  prior  posterior\n",
              "0     2016-02-01  월   2601      50  ...  1039.0  331.0      0          1\n",
              "1     2016-02-02  화   2601      50  ...   867.0  560.0      1          1\n",
              "2     2016-02-03  수   2601      56  ...  1017.0  573.0      1          1\n",
              "3     2016-02-04  목   2601     104  ...   978.0  525.0      1          1\n",
              "4     2016-02-05  금   2601     278  ...   925.0  330.0      1          0\n",
              "...          ... ..    ...     ...  ...     ...    ...    ...        ...\n",
              "1200  2021-01-20  수   2983      75  ...  1093.0  421.0      1          1\n",
              "1201  2021-01-21  목   2983      92  ...   832.0  353.0      1          1\n",
              "1202  2021-01-22  금   2983     255  ...   579.0  217.0      1          1\n",
              "1203  2021-01-25  월   2983     107  ...  1145.0  502.0      1          1\n",
              "1204  2021-01-26  화   2983      69  ...  1015.0  480.0      1          0\n",
              "\n",
              "[1205 rows x 11 columns]"
            ]
          },
          "metadata": {
            "tags": []
          },
          "execution_count": 8
        }
      ]
    },
    {
      "cell_type": "code",
      "metadata": {
        "id": "Dp8wXoacE_0z"
      },
      "source": [
        "# 원핫인코딩\n",
        "dt = pd.get_dummies(dt, columns=['요일'])"
      ],
      "execution_count": 9,
      "outputs": []
    },
    {
      "cell_type": "code",
      "metadata": {
        "colab": {
          "base_uri": "https://localhost:8080/",
          "height": 606
        },
        "id": "1TBf88h0GiwG",
        "outputId": "9a593a62-3238-4385-d720-abc540a21c5d"
      },
      "source": [
        "dt"
      ],
      "execution_count": 10,
      "outputs": [
        {
          "output_type": "execute_result",
          "data": {
            "text/html": [
              "<div>\n",
              "<style scoped>\n",
              "    .dataframe tbody tr th:only-of-type {\n",
              "        vertical-align: middle;\n",
              "    }\n",
              "\n",
              "    .dataframe tbody tr th {\n",
              "        vertical-align: top;\n",
              "    }\n",
              "\n",
              "    .dataframe thead th {\n",
              "        text-align: right;\n",
              "    }\n",
              "</style>\n",
              "<table border=\"1\" class=\"dataframe\">\n",
              "  <thead>\n",
              "    <tr style=\"text-align: right;\">\n",
              "      <th></th>\n",
              "      <th>일자</th>\n",
              "      <th>본사정원수</th>\n",
              "      <th>본사휴가자수</th>\n",
              "      <th>본사출장자수</th>\n",
              "      <th>본사시간외근무명령서승인건수</th>\n",
              "      <th>현본사소속재택근무자수</th>\n",
              "      <th>중식계</th>\n",
              "      <th>석식계</th>\n",
              "      <th>prior</th>\n",
              "      <th>posterior</th>\n",
              "      <th>요일_금</th>\n",
              "      <th>요일_목</th>\n",
              "      <th>요일_수</th>\n",
              "      <th>요일_월</th>\n",
              "      <th>요일_화</th>\n",
              "    </tr>\n",
              "  </thead>\n",
              "  <tbody>\n",
              "    <tr>\n",
              "      <th>0</th>\n",
              "      <td>2016-02-01</td>\n",
              "      <td>2601</td>\n",
              "      <td>50</td>\n",
              "      <td>150</td>\n",
              "      <td>238</td>\n",
              "      <td>0.0</td>\n",
              "      <td>1039.0</td>\n",
              "      <td>331.0</td>\n",
              "      <td>0</td>\n",
              "      <td>1</td>\n",
              "      <td>0</td>\n",
              "      <td>0</td>\n",
              "      <td>0</td>\n",
              "      <td>1</td>\n",
              "      <td>0</td>\n",
              "    </tr>\n",
              "    <tr>\n",
              "      <th>1</th>\n",
              "      <td>2016-02-02</td>\n",
              "      <td>2601</td>\n",
              "      <td>50</td>\n",
              "      <td>173</td>\n",
              "      <td>319</td>\n",
              "      <td>0.0</td>\n",
              "      <td>867.0</td>\n",
              "      <td>560.0</td>\n",
              "      <td>1</td>\n",
              "      <td>1</td>\n",
              "      <td>0</td>\n",
              "      <td>0</td>\n",
              "      <td>0</td>\n",
              "      <td>0</td>\n",
              "      <td>1</td>\n",
              "    </tr>\n",
              "    <tr>\n",
              "      <th>2</th>\n",
              "      <td>2016-02-03</td>\n",
              "      <td>2601</td>\n",
              "      <td>56</td>\n",
              "      <td>180</td>\n",
              "      <td>111</td>\n",
              "      <td>0.0</td>\n",
              "      <td>1017.0</td>\n",
              "      <td>573.0</td>\n",
              "      <td>1</td>\n",
              "      <td>1</td>\n",
              "      <td>0</td>\n",
              "      <td>0</td>\n",
              "      <td>1</td>\n",
              "      <td>0</td>\n",
              "      <td>0</td>\n",
              "    </tr>\n",
              "    <tr>\n",
              "      <th>3</th>\n",
              "      <td>2016-02-04</td>\n",
              "      <td>2601</td>\n",
              "      <td>104</td>\n",
              "      <td>220</td>\n",
              "      <td>355</td>\n",
              "      <td>0.0</td>\n",
              "      <td>978.0</td>\n",
              "      <td>525.0</td>\n",
              "      <td>1</td>\n",
              "      <td>1</td>\n",
              "      <td>0</td>\n",
              "      <td>1</td>\n",
              "      <td>0</td>\n",
              "      <td>0</td>\n",
              "      <td>0</td>\n",
              "    </tr>\n",
              "    <tr>\n",
              "      <th>4</th>\n",
              "      <td>2016-02-05</td>\n",
              "      <td>2601</td>\n",
              "      <td>278</td>\n",
              "      <td>181</td>\n",
              "      <td>34</td>\n",
              "      <td>0.0</td>\n",
              "      <td>925.0</td>\n",
              "      <td>330.0</td>\n",
              "      <td>1</td>\n",
              "      <td>0</td>\n",
              "      <td>1</td>\n",
              "      <td>0</td>\n",
              "      <td>0</td>\n",
              "      <td>0</td>\n",
              "      <td>0</td>\n",
              "    </tr>\n",
              "    <tr>\n",
              "      <th>...</th>\n",
              "      <td>...</td>\n",
              "      <td>...</td>\n",
              "      <td>...</td>\n",
              "      <td>...</td>\n",
              "      <td>...</td>\n",
              "      <td>...</td>\n",
              "      <td>...</td>\n",
              "      <td>...</td>\n",
              "      <td>...</td>\n",
              "      <td>...</td>\n",
              "      <td>...</td>\n",
              "      <td>...</td>\n",
              "      <td>...</td>\n",
              "      <td>...</td>\n",
              "      <td>...</td>\n",
              "    </tr>\n",
              "    <tr>\n",
              "      <th>1200</th>\n",
              "      <td>2021-01-20</td>\n",
              "      <td>2983</td>\n",
              "      <td>75</td>\n",
              "      <td>198</td>\n",
              "      <td>4</td>\n",
              "      <td>391.0</td>\n",
              "      <td>1093.0</td>\n",
              "      <td>421.0</td>\n",
              "      <td>1</td>\n",
              "      <td>1</td>\n",
              "      <td>0</td>\n",
              "      <td>0</td>\n",
              "      <td>1</td>\n",
              "      <td>0</td>\n",
              "      <td>0</td>\n",
              "    </tr>\n",
              "    <tr>\n",
              "      <th>1201</th>\n",
              "      <td>2021-01-21</td>\n",
              "      <td>2983</td>\n",
              "      <td>92</td>\n",
              "      <td>231</td>\n",
              "      <td>462</td>\n",
              "      <td>351.0</td>\n",
              "      <td>832.0</td>\n",
              "      <td>353.0</td>\n",
              "      <td>1</td>\n",
              "      <td>1</td>\n",
              "      <td>0</td>\n",
              "      <td>1</td>\n",
              "      <td>0</td>\n",
              "      <td>0</td>\n",
              "      <td>0</td>\n",
              "    </tr>\n",
              "    <tr>\n",
              "      <th>1202</th>\n",
              "      <td>2021-01-22</td>\n",
              "      <td>2983</td>\n",
              "      <td>255</td>\n",
              "      <td>248</td>\n",
              "      <td>1</td>\n",
              "      <td>303.0</td>\n",
              "      <td>579.0</td>\n",
              "      <td>217.0</td>\n",
              "      <td>1</td>\n",
              "      <td>1</td>\n",
              "      <td>1</td>\n",
              "      <td>0</td>\n",
              "      <td>0</td>\n",
              "      <td>0</td>\n",
              "      <td>0</td>\n",
              "    </tr>\n",
              "    <tr>\n",
              "      <th>1203</th>\n",
              "      <td>2021-01-25</td>\n",
              "      <td>2983</td>\n",
              "      <td>107</td>\n",
              "      <td>153</td>\n",
              "      <td>616</td>\n",
              "      <td>327.0</td>\n",
              "      <td>1145.0</td>\n",
              "      <td>502.0</td>\n",
              "      <td>1</td>\n",
              "      <td>1</td>\n",
              "      <td>0</td>\n",
              "      <td>0</td>\n",
              "      <td>0</td>\n",
              "      <td>1</td>\n",
              "      <td>0</td>\n",
              "    </tr>\n",
              "    <tr>\n",
              "      <th>1204</th>\n",
              "      <td>2021-01-26</td>\n",
              "      <td>2983</td>\n",
              "      <td>69</td>\n",
              "      <td>183</td>\n",
              "      <td>551</td>\n",
              "      <td>362.0</td>\n",
              "      <td>1015.0</td>\n",
              "      <td>480.0</td>\n",
              "      <td>1</td>\n",
              "      <td>0</td>\n",
              "      <td>0</td>\n",
              "      <td>0</td>\n",
              "      <td>0</td>\n",
              "      <td>0</td>\n",
              "      <td>1</td>\n",
              "    </tr>\n",
              "  </tbody>\n",
              "</table>\n",
              "<p>1205 rows × 15 columns</p>\n",
              "</div>"
            ],
            "text/plain": [
              "              일자  본사정원수  본사휴가자수  본사출장자수  ...  요일_목  요일_수  요일_월  요일_화\n",
              "0     2016-02-01   2601      50     150  ...     0     0     1     0\n",
              "1     2016-02-02   2601      50     173  ...     0     0     0     1\n",
              "2     2016-02-03   2601      56     180  ...     0     1     0     0\n",
              "3     2016-02-04   2601     104     220  ...     1     0     0     0\n",
              "4     2016-02-05   2601     278     181  ...     0     0     0     0\n",
              "...          ...    ...     ...     ...  ...   ...   ...   ...   ...\n",
              "1200  2021-01-20   2983      75     198  ...     0     1     0     0\n",
              "1201  2021-01-21   2983      92     231  ...     1     0     0     0\n",
              "1202  2021-01-22   2983     255     248  ...     0     0     0     0\n",
              "1203  2021-01-25   2983     107     153  ...     0     0     1     0\n",
              "1204  2021-01-26   2983      69     183  ...     0     0     0     1\n",
              "\n",
              "[1205 rows x 15 columns]"
            ]
          },
          "metadata": {
            "tags": []
          },
          "execution_count": 10
        }
      ]
    },
    {
      "cell_type": "code",
      "metadata": {
        "id": "LMvmOHj3FFYL"
      },
      "source": [
        "X1_train, X1_test, y1_train, y1_test = train_test_split(dt.iloc[:,range(1,len(dt.columns)-1)], dt[[\"중식계\"]])\n",
        "X2_train, X2_test, y2_train, y2_test = train_test_split(dt.iloc[:,range(1,len(dt.columns)-1)], dt[[\"석식계\"]])"
      ],
      "execution_count": 11,
      "outputs": []
    },
    {
      "cell_type": "code",
      "metadata": {
        "id": "XxvnPDPYFIAy"
      },
      "source": [
        "pipe = Pipeline([('preprocessing', None), ('regressor', LinearRegression())])\n",
        "pre_list = [StandardScaler(), MinMaxScaler(), None]\n",
        "hyperparam_grid = [\n",
        "    {\"regressor\": [LinearRegression()], 'preprocessing': pre_list},\n",
        "    {\"regressor\": [Ridge()], 'preprocessing': pre_list,\n",
        "    \"regressor__alpha\": [0.0001, 0.001, 0.01, 0.1, 1, 10]},\n",
        "    {\"regressor\": [Lasso()], 'preprocessing': pre_list,\n",
        "    \"regressor__alpha\": [0.0001, 0.001, 0.01, 0.1, 1, 10]},\n",
        "    {\"regressor\": [LogisticRegression()], 'preprocessing': pre_list,\n",
        "    \"regressor__C\": [0.0001, 0.001, 0.01, 0.1, 1, 10]},\n",
        "    {\"regressor\": [SVR()], 'preprocessing': pre_list,\n",
        "    \"regressor__epsilon\": [0.001, 0.01, 0.1, 1, 10],\n",
        "    \"regressor__C\": [0.0001, 0.001, 0.01, 0.1, 1, 10]},\n",
        "    {\"regressor\": [MLPRegressor()], 'preprocessing': pre_list,\n",
        "    \"regressor__hidden_layer_sizes\": [(100,) , (10, 10, )],\n",
        "    \"regressor__activation\": [\"relu\", \"logistic\"],\n",
        "    \"regressor__solver\": [\"lbfgs\", \"adam\"],\n",
        "    \"regressor__alpha\": [0.0001, 0.01, 1]}\n",
        "\n",
        "]\n",
        "kfold = KFold(n_splits=5, shuffle=True, random_state=1)\n",
        "\n",
        "grid1 = GridSearchCV(pipe, hyperparam_grid, scoring=\"neg_mean_absolute_error\",\n",
        "                   refit=True, cv=kfold)\n",
        "grid2 = GridSearchCV(pipe, hyperparam_grid, scoring=\"neg_mean_absolute_error\",\n",
        "                   refit=True, cv=kfold)"
      ],
      "execution_count": 12,
      "outputs": []
    },
    {
      "cell_type": "code",
      "metadata": {
        "colab": {
          "base_uri": "https://localhost:8080/"
        },
        "id": "rkxAmTNUFIQC",
        "outputId": "3f1b4e1f-a287-462c-f443-6274b49bb1fd"
      },
      "source": [
        "grid1.fit(X1_train, y1_train)\n",
        "print(grid1.best_estimator_)\n",
        "print(grid1.best_params_)\n",
        "print(grid1.best_score_)\n",
        "print(grid1.score(X1_test, y1_test))"
      ],
      "execution_count": 13,
      "outputs": [
        {
          "output_type": "stream",
          "text": [
            "Pipeline(memory=None,\n",
            "         steps=[('preprocessing', None),\n",
            "                ('regressor',\n",
            "                 LinearRegression(copy_X=True, fit_intercept=True, n_jobs=None,\n",
            "                                  normalize=False))],\n",
            "         verbose=False)\n",
            "{'preprocessing': None, 'regressor': LinearRegression(copy_X=True, fit_intercept=True, n_jobs=None, normalize=False)}\n",
            "-1.593552382336372e-13\n",
            "-1.976344033240014e-13\n"
          ],
          "name": "stdout"
        }
      ]
    },
    {
      "cell_type": "code",
      "metadata": {
        "colab": {
          "base_uri": "https://localhost:8080/"
        },
        "id": "YB_pSYeXLPvb",
        "outputId": "7e401cf5-e88e-4b77-8d8d-bc0a9fccbc74"
      },
      "source": [
        "grid2.fit(X2_train, y2_train)\n",
        "print(grid2.best_estimator_)\n",
        "print(grid2.best_params_)\n",
        "print(grid2.best_score_)\n",
        "print(grid2.score(X2_test, y2_test))"
      ],
      "execution_count": 14,
      "outputs": [
        {
          "output_type": "stream",
          "text": [
            "Pipeline(memory=None,\n",
            "         steps=[('preprocessing', None),\n",
            "                ('regressor',\n",
            "                 LinearRegression(copy_X=True, fit_intercept=True, n_jobs=None,\n",
            "                                  normalize=False))],\n",
            "         verbose=False)\n",
            "{'preprocessing': None, 'regressor': LinearRegression(copy_X=True, fit_intercept=True, n_jobs=None, normalize=False)}\n",
            "-1.0473401159594413e-13\n",
            "-7.898271582991497e-14\n"
          ],
          "name": "stdout"
        }
      ]
    },
    {
      "cell_type": "code",
      "metadata": {
        "colab": {
          "base_uri": "https://localhost:8080/"
        },
        "id": "GuJ7p38BOn5e",
        "outputId": "8e484bc9-ea66-4639-e2b6-8ca1f8f01218"
      },
      "source": [
        "from sklearn.metrics import mean_absolute_error\n",
        "print(\"중식 최종 결과: \", mean_absolute_error(y1_test, grid1.best_estimator_.predict(X1_test)))\n",
        "print(\"석식 최종 결과: \", mean_absolute_error(y2_test, grid2.best_estimator_.predict(X2_test)))"
      ],
      "execution_count": 16,
      "outputs": [
        {
          "output_type": "stream",
          "text": [
            "중식 최종 결과:  1.976344033240014e-13\n",
            "석식 최종 결과:  7.898271582991497e-14\n"
          ],
          "name": "stdout"
        }
      ]
    },
    {
      "cell_type": "code",
      "metadata": {
        "id": "yOxIkMBFOoGw"
      },
      "source": [
        ""
      ],
      "execution_count": null,
      "outputs": []
    }
  ]
}